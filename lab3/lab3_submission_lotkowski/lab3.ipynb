{
 "metadata": {
  "name": ""
 },
 "nbformat": 3,
 "nbformat_minor": 0,
 "worksheets": [
  {
   "cells": [
    {
     "cell_type": "code",
     "collapsed": false,
     "input": [
      "# Import pandas and numpy\n",
      "import pandas as pd\n",
      "import numpy as np\n",
      "\n",
      "# Set some Pandas options\n",
      "pd.set_option('display.notebook_repr_html', False)\n",
      "pd.set_option('display.max_columns', 20)\n",
      "pd.set_option('display.max_rows', 25)"
     ],
     "language": "python",
     "metadata": {},
     "outputs": [],
     "prompt_number": 94
    },
    {
     "cell_type": "code",
     "collapsed": false,
     "input": [
      "cdystonia = pd.read_csv(\"data/cdystonia.csv\", index_col=None)\n",
      "cdystonia['twstrs'] = cdystonia['twstrs'].astype(np.float64)\n",
      "cdystonia.head()"
     ],
     "language": "python",
     "metadata": {},
     "outputs": [
      {
       "metadata": {},
       "output_type": "pyout",
       "prompt_number": 95,
       "text": [
        "   patient  obs  week  site  id  treat  age sex  twstrs\n",
        "0        1    1     0     1   1  5000U   65   F      32\n",
        "1        1    2     2     1   1  5000U   65   F      30\n",
        "2        1    3     4     1   1  5000U   65   F      24\n",
        "3        1    4     8     1   1  5000U   65   F      37\n",
        "4        1    5    12     1   1  5000U   65   F      39\n",
        "\n",
        "[5 rows x 9 columns]"
       ]
      }
     ],
     "prompt_number": 95
    },
    {
     "cell_type": "code",
     "collapsed": false,
     "input": [
      "# EXCERSIZE: VALUE REPLACEMENT\n",
      "# ---------------------------------------------------------------------------\n",
      "\n",
      "treat_map = {'Placebo': 0, '5000U': 1, '10000U': 2}\n",
      "cdystonia['treatment'] = cdystonia.replace({'treat': treat_map}).treat\n",
      "cdystonia.head()"
     ],
     "language": "python",
     "metadata": {},
     "outputs": [
      {
       "metadata": {},
       "output_type": "pyout",
       "prompt_number": 96,
       "text": [
        "   patient  obs  week  site  id  treat  age sex  twstrs  treatment\n",
        "0        1    1     0     1   1  5000U   65   F      32          1\n",
        "1        1    2     2     1   1  5000U   65   F      30          1\n",
        "2        1    3     4     1   1  5000U   65   F      24          1\n",
        "3        1    4     8     1   1  5000U   65   F      37          1\n",
        "4        1    5    12     1   1  5000U   65   F      39          1\n",
        "\n",
        "[5 rows x 10 columns]"
       ]
      }
     ],
     "prompt_number": 96
    },
    {
     "cell_type": "code",
     "collapsed": false,
     "input": [
      "cdystonia.age.describe()"
     ],
     "language": "python",
     "metadata": {},
     "outputs": [
      {
       "metadata": {},
       "output_type": "pyout",
       "prompt_number": 97,
       "text": [
        "count    631.000000\n",
        "mean      55.616482\n",
        "std       12.123910\n",
        "min       26.000000\n",
        "25%       46.000000\n",
        "50%       56.000000\n",
        "75%       65.000000\n",
        "max       83.000000\n",
        "Name: age, dtype: float64"
       ]
      }
     ],
     "prompt_number": 97
    },
    {
     "cell_type": "code",
     "collapsed": false,
     "input": [
      "# EXCERSIZE: VALUE DISCRETIZATION\n",
      "# ---------------------------------------------------------------------------\n",
      "\n",
      "cutOutput = pd.cut(cdystonia.age, [20,40,60,80,90], retbins='true')"
     ],
     "language": "python",
     "metadata": {},
     "outputs": [],
     "prompt_number": 98
    },
    {
     "cell_type": "code",
     "collapsed": false,
     "input": [
      "print cutOutput[:30]"
     ],
     "language": "python",
     "metadata": {},
     "outputs": [
      {
       "output_type": "stream",
       "stream": "stdout",
       "text": [
        "( (60, 80]\n",
        " (60, 80]\n",
        " (60, 80]\n",
        " (60, 80]\n",
        " (60, 80]\n",
        " (60, 80]\n",
        " (60, 80]\n",
        " (60, 80]\n",
        " (60, 80]\n",
        " (60, 80]\n",
        "...\n",
        " (20, 40]\n",
        " (20, 40]\n",
        " (20, 40]\n",
        " (20, 40]\n",
        " (20, 40]\n",
        " (20, 40]\n",
        " (40, 60]\n",
        " (40, 60]\n",
        " (40, 60]\n",
        " (40, 60]\n",
        " (40, 60]\n",
        "Levels (4): Index(['(20, 40]', '(40, 60]', '(60, 80]', '(80, 90]'], dtype=object)\n",
        "Name: age, Length: 631, array([20, 40, 60, 80, 90]))\n"
       ]
      }
     ],
     "prompt_number": 99
    },
    {
     "cell_type": "code",
     "collapsed": false,
     "input": [
      "cutWithLabels = pd.cut(cdystonia.age, [20,40,60,80,90], labels=['young', 'middle-aged', 'old', 'ancient'])\n",
      "cdystonia['ageGroup'] = cutWithLabels"
     ],
     "language": "python",
     "metadata": {},
     "outputs": [],
     "prompt_number": 100
    },
    {
     "cell_type": "code",
     "collapsed": false,
     "input": [
      "cdystonia.head()"
     ],
     "language": "python",
     "metadata": {},
     "outputs": [
      {
       "metadata": {},
       "output_type": "pyout",
       "prompt_number": 101,
       "text": [
        "   patient  obs  week  site  id  treat  age sex  twstrs  treatment ageGroup\n",
        "0        1    1     0     1   1  5000U   65   F      32          1      old\n",
        "1        1    2     2     1   1  5000U   65   F      30          1      old\n",
        "2        1    3     4     1   1  5000U   65   F      24          1      old\n",
        "3        1    4     8     1   1  5000U   65   F      37          1      old\n",
        "4        1    5    12     1   1  5000U   65   F      39          1      old\n",
        "\n",
        "[5 rows x 11 columns]"
       ]
      }
     ],
     "prompt_number": 101
    },
    {
     "cell_type": "code",
     "collapsed": false,
     "input": [
      "# EXCERSIZE: DATA AGGREGATION AND GROUPBY OPERATIONS\n",
      "# ---------------------------------------------------------------------------\n",
      "\n",
      "cdystonia_group = cdystonia.groupby('patient')"
     ],
     "language": "python",
     "metadata": {},
     "outputs": [],
     "prompt_number": 108
    },
    {
     "cell_type": "code",
     "collapsed": false,
     "input": [
      "patientMeanTwstrs = cdystonia_group.aggregate(np.mean)['twstrs']"
     ],
     "language": "python",
     "metadata": {},
     "outputs": [],
     "prompt_number": 116
    },
    {
     "cell_type": "code",
     "collapsed": false,
     "input": [
      "patientMeanTwstrs.head()"
     ],
     "language": "python",
     "metadata": {},
     "outputs": [
      {
       "metadata": {},
       "output_type": "pyout",
       "prompt_number": 117,
       "text": [
        "patient\n",
        "1          33.000000\n",
        "2          47.666667\n",
        "3          30.500000\n",
        "4          60.000000\n",
        "5          46.166667\n",
        "Name: twstrs, dtype: float64"
       ]
      }
     ],
     "prompt_number": 117
    },
    {
     "cell_type": "code",
     "collapsed": false,
     "input": [
      "normalizedTWSTRS = cdystonia_group['twstrs'].apply(lambda x: (x - x.mean())/(x.std()))"
     ],
     "language": "python",
     "metadata": {},
     "outputs": [],
     "prompt_number": 131
    },
    {
     "cell_type": "code",
     "collapsed": false,
     "input": [
      "normalizedTWSTRS.head()"
     ],
     "language": "python",
     "metadata": {},
     "outputs": [
      {
       "metadata": {},
       "output_type": "pyout",
       "prompt_number": 132,
       "text": [
        "0   -0.181369\n",
        "1   -0.544107\n",
        "2   -1.632322\n",
        "3    0.725476\n",
        "4    1.088214\n",
        "dtype: float64"
       ]
      }
     ],
     "prompt_number": 132
    },
    {
     "cell_type": "code",
     "collapsed": false,
     "input": [],
     "language": "python",
     "metadata": {},
     "outputs": []
    }
   ],
   "metadata": {}
  }
 ]
}