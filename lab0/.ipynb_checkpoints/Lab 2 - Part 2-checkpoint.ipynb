{
 "metadata": {
  "name": ""
 },
 "nbformat": 3,
 "nbformat_minor": 0,
 "worksheets": [
  {
   "cells": [
    {
     "cell_type": "code",
     "collapsed": false,
     "input": [
      "import pandas as pd\n",
      "import re\n",
      "import numpy as np"
     ],
     "language": "python",
     "metadata": {},
     "outputs": [],
     "prompt_number": 65
    },
    {
     "cell_type": "code",
     "collapsed": false,
     "input": [
      "players = pd.read_csv('players.csv')\n",
      "countries = pd.read_csv('countries.csv')\n",
      "events = pd.read_csv('events.csv')"
     ],
     "language": "python",
     "metadata": {},
     "outputs": [],
     "prompt_number": 2
    },
    {
     "cell_type": "code",
     "collapsed": false,
     "input": [
      "# Count all players whos name's start with AEIOU\n",
      "players['name'].str.extract('^([AEIOU].*)').count()"
     ],
     "language": "python",
     "metadata": {},
     "outputs": [
      {
       "metadata": {},
       "output_type": "pyout",
       "prompt_number": 45,
       "text": [
        "84"
       ]
      }
     ],
     "prompt_number": 45
    },
    {
     "cell_type": "code",
     "collapsed": false,
     "input": [
      "# Find all players from the 'USA' whos name starts with an 'A'\n",
      "players[players.country_id == 'USA'].name.str.contain('(^[Aa].*)')\n",
      "#usa.where(usa['name'].str.extract('(^[Aa].*)'))\n",
      "#usa[usa['name'].str.match('(^[Aa].*)')]"
     ],
     "language": "python",
     "metadata": {},
     "outputs": [
      {
       "metadata": {},
       "output_type": "pyout",
       "prompt_number": 101,
       "text": [
        "1     Adam Nelson                             \n",
        "3     Alvin Harrison                          \n",
        "15                                         NaN\n",
        "16                                         NaN\n",
        "17                                         NaN\n",
        "18                                         NaN\n",
        "19                                         NaN\n",
        "25                                         NaN\n",
        "30                                         NaN\n",
        "32                                         NaN\n",
        "40                                         NaN\n",
        "43                                         NaN\n",
        "46                                         NaN\n",
        "47                                         NaN\n",
        "49                                         NaN\n",
        "...\n",
        "327    NaN\n",
        "334    NaN\n",
        "349    NaN\n",
        "351    NaN\n",
        "353    NaN\n",
        "358    NaN\n",
        "363    NaN\n",
        "368    NaN\n",
        "395    NaN\n",
        "401    NaN\n",
        "403    NaN\n",
        "405    NaN\n",
        "406    NaN\n",
        "407    NaN\n",
        "410    NaN\n",
        "Name: name, Length: 88, dtype: object"
       ]
      }
     ],
     "prompt_number": 101
    },
    {
     "cell_type": "code",
     "collapsed": false,
     "input": [],
     "language": "python",
     "metadata": {},
     "outputs": [],
     "prompt_number": 52
    },
    {
     "cell_type": "code",
     "collapsed": false,
     "input": [],
     "language": "python",
     "metadata": {},
     "outputs": []
    }
   ],
   "metadata": {}
  }
 ]
}